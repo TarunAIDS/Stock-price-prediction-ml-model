{
 "cells": [
  {
   "cell_type": "code",
   "execution_count": 1,
   "id": "0b377c83",
   "metadata": {},
   "outputs": [],
   "source": [
    "#Machine learning model to predict stock market price of google"
   ]
  },
  {
   "cell_type": "code",
   "execution_count": 10,
   "id": "2af52ca4",
   "metadata": {},
   "outputs": [],
   "source": [
    "#1.import libraries\n",
    "import os\n",
    "import numpy as np\n",
    "import pandas as pd\n",
    "import matplotlib.pyplot as plt\n",
    "%matplotlib inline"
   ]
  },
  {
   "cell_type": "code",
   "execution_count": 11,
   "id": "0bcf13cf",
   "metadata": {},
   "outputs": [
    {
     "data": {
      "text/html": [
       "<div>\n",
       "<style scoped>\n",
       "    .dataframe tbody tr th:only-of-type {\n",
       "        vertical-align: middle;\n",
       "    }\n",
       "\n",
       "    .dataframe tbody tr th {\n",
       "        vertical-align: top;\n",
       "    }\n",
       "\n",
       "    .dataframe thead th {\n",
       "        text-align: right;\n",
       "    }\n",
       "</style>\n",
       "<table border=\"1\" class=\"dataframe\">\n",
       "  <thead>\n",
       "    <tr style=\"text-align: right;\">\n",
       "      <th></th>\n",
       "      <th>Date</th>\n",
       "      <th>Open</th>\n",
       "      <th>High</th>\n",
       "      <th>Low</th>\n",
       "      <th>Close</th>\n",
       "      <th>Adj_Close</th>\n",
       "      <th>Volume</th>\n",
       "    </tr>\n",
       "  </thead>\n",
       "  <tbody>\n",
       "    <tr>\n",
       "      <th>0</th>\n",
       "      <td>2000/3/27</td>\n",
       "      <td>3.812500</td>\n",
       "      <td>4.156250</td>\n",
       "      <td>3.812500</td>\n",
       "      <td>4.125000</td>\n",
       "      <td>4.125000</td>\n",
       "      <td>3675600</td>\n",
       "    </tr>\n",
       "    <tr>\n",
       "      <th>1</th>\n",
       "      <td>2000/3/28</td>\n",
       "      <td>4.125000</td>\n",
       "      <td>4.125000</td>\n",
       "      <td>4.000000</td>\n",
       "      <td>4.015625</td>\n",
       "      <td>4.015625</td>\n",
       "      <td>1077600</td>\n",
       "    </tr>\n",
       "    <tr>\n",
       "      <th>2</th>\n",
       "      <td>2000/3/29</td>\n",
       "      <td>4.000000</td>\n",
       "      <td>4.031250</td>\n",
       "      <td>3.953125</td>\n",
       "      <td>4.000000</td>\n",
       "      <td>4.000000</td>\n",
       "      <td>437200</td>\n",
       "    </tr>\n",
       "    <tr>\n",
       "      <th>3</th>\n",
       "      <td>2000/3/30</td>\n",
       "      <td>4.000000</td>\n",
       "      <td>4.000000</td>\n",
       "      <td>3.843750</td>\n",
       "      <td>3.843750</td>\n",
       "      <td>3.843750</td>\n",
       "      <td>1883600</td>\n",
       "    </tr>\n",
       "    <tr>\n",
       "      <th>4</th>\n",
       "      <td>2000/3/31</td>\n",
       "      <td>3.734375</td>\n",
       "      <td>3.734375</td>\n",
       "      <td>3.390625</td>\n",
       "      <td>3.390625</td>\n",
       "      <td>3.390625</td>\n",
       "      <td>7931600</td>\n",
       "    </tr>\n",
       "  </tbody>\n",
       "</table>\n",
       "</div>"
      ],
      "text/plain": [
       "        Date      Open      High       Low     Close  Adj_Close   Volume\n",
       "0  2000/3/27  3.812500  4.156250  3.812500  4.125000   4.125000  3675600\n",
       "1  2000/3/28  4.125000  4.125000  4.000000  4.015625   4.015625  1077600\n",
       "2  2000/3/29  4.000000  4.031250  3.953125  4.000000   4.000000   437200\n",
       "3  2000/3/30  4.000000  4.000000  3.843750  3.843750   3.843750  1883600\n",
       "4  2000/3/31  3.734375  3.734375  3.390625  3.390625   3.390625  7931600"
      ]
     },
     "execution_count": 11,
     "metadata": {},
     "output_type": "execute_result"
    }
   ],
   "source": [
    "#2.load the dataset\n",
    "dataset_train=pd.read_csv(\"EW-MAX.csv.xls\")\n",
    "dataset_train.head()"
   ]
  },
  {
   "cell_type": "code",
   "execution_count": 12,
   "id": "ce7796e7",
   "metadata": {},
   "outputs": [
    {
     "name": "stdout",
     "output_type": "stream",
     "text": [
      "[[  3.8125  ]\n",
      " [  4.125   ]\n",
      " [  4.      ]\n",
      " ...\n",
      " [112.029999]\n",
      " [112.459999]\n",
      " [112.300003]]\n",
      "(4392, 1)\n"
     ]
    }
   ],
   "source": [
    "#3.to train the model using stock price column\n",
    "training_set=dataset_train.iloc[:,1:2].values\n",
    "\n",
    "print(training_set)\n",
    "print(training_set.shape)"
   ]
  },
  {
   "cell_type": "code",
   "execution_count": 13,
   "id": "3de5e46c",
   "metadata": {},
   "outputs": [
    {
     "data": {
      "text/plain": [
       "array([[0.00437775],\n",
       "       [0.00703093],\n",
       "       [0.00596966],\n",
       "       ...,\n",
       "       [0.92316384],\n",
       "       [0.92681462],\n",
       "       [0.92545622]])"
      ]
     },
     "execution_count": 13,
     "metadata": {},
     "output_type": "execute_result"
    }
   ],
   "source": [
    "#4.normalize the dataset\n",
    "from sklearn.preprocessing import MinMaxScaler\n",
    "scaler=MinMaxScaler(feature_range=(0,1))\n",
    "scaled_training_set=scaler.fit_transform(training_set)\n",
    "scaled_training_set"
   ]
  },
  {
   "cell_type": "code",
   "execution_count": 14,
   "id": "95d2592e",
   "metadata": {},
   "outputs": [
    {
     "name": "stdout",
     "output_type": "stream",
     "text": [
      "(1198, 60)\n",
      "(1198,)\n"
     ]
    }
   ],
   "source": [
    "#5.creating x_train and y_train data structures.\n",
    "x_train=[]\n",
    "y_train=[]\n",
    "for i in range(60,1258):\n",
    "    x_train.append(scaled_training_set[i-60:i,0])\n",
    "    y_train.append(scaled_training_set[i,0])\n",
    "x_train=np.array(x_train)\n",
    "y_train=np.array(y_train)\n",
    "print(x_train.shape)\n",
    "print(y_train.shape)"
   ]
  },
  {
   "cell_type": "code",
   "execution_count": 15,
   "id": "3ce8375e",
   "metadata": {},
   "outputs": [
    {
     "data": {
      "text/plain": [
       "(1198, 60, 1)"
      ]
     },
     "execution_count": 15,
     "metadata": {},
     "output_type": "execute_result"
    }
   ],
   "source": [
    "#6.reshape the data\n",
    "x_train=np.reshape(x_train,(x_train.shape[0],x_train.shape[1],1))\n",
    "x_train.shape"
   ]
  },
  {
   "cell_type": "code",
   "execution_count": 18,
   "id": "67f0d8da",
   "metadata": {},
   "outputs": [
    {
     "name": "stdout",
     "output_type": "stream",
     "text": [
      "Requirement already satisfied: keras in c:\\users\\tarun\\anaconda3\\lib\\site-packages (2.11.0)\n",
      "Requirement already satisfied: tensorflow in c:\\users\\tarun\\anaconda3\\lib\\site-packages (2.11.0)\n",
      "Requirement already satisfied: tensorflow-intel==2.11.0 in c:\\users\\tarun\\anaconda3\\lib\\site-packages (from tensorflow) (2.11.0)\n",
      "Requirement already satisfied: tensorflow-estimator<2.12,>=2.11.0 in c:\\users\\tarun\\anaconda3\\lib\\site-packages (from tensorflow-intel==2.11.0->tensorflow) (2.11.0)\n",
      "Requirement already satisfied: astunparse>=1.6.0 in c:\\users\\tarun\\anaconda3\\lib\\site-packages (from tensorflow-intel==2.11.0->tensorflow) (1.6.3)\n",
      "Requirement already satisfied: wrapt>=1.11.0 in c:\\users\\tarun\\anaconda3\\lib\\site-packages (from tensorflow-intel==2.11.0->tensorflow) (1.12.1)\n",
      "Requirement already satisfied: numpy>=1.20 in c:\\users\\tarun\\anaconda3\\lib\\site-packages (from tensorflow-intel==2.11.0->tensorflow) (1.21.5)\n",
      "Requirement already satisfied: typing-extensions>=3.6.6 in c:\\users\\tarun\\anaconda3\\lib\\site-packages (from tensorflow-intel==2.11.0->tensorflow) (4.1.1)\n",
      "Requirement already satisfied: tensorflow-io-gcs-filesystem>=0.23.1 in c:\\users\\tarun\\anaconda3\\lib\\site-packages (from tensorflow-intel==2.11.0->tensorflow) (0.28.0)\n",
      "Requirement already satisfied: flatbuffers>=2.0 in c:\\users\\tarun\\anaconda3\\lib\\site-packages (from tensorflow-intel==2.11.0->tensorflow) (22.11.23)\n",
      "Requirement already satisfied: absl-py>=1.0.0 in c:\\users\\tarun\\anaconda3\\lib\\site-packages (from tensorflow-intel==2.11.0->tensorflow) (1.3.0)\n",
      "Requirement already satisfied: grpcio<2.0,>=1.24.3 in c:\\users\\tarun\\anaconda3\\lib\\site-packages (from tensorflow-intel==2.11.0->tensorflow) (1.42.0)\n",
      "Requirement already satisfied: termcolor>=1.1.0 in c:\\users\\tarun\\anaconda3\\lib\\site-packages (from tensorflow-intel==2.11.0->tensorflow) (2.1.1)\n",
      "Requirement already satisfied: gast<=0.4.0,>=0.2.1 in c:\\users\\tarun\\anaconda3\\lib\\site-packages (from tensorflow-intel==2.11.0->tensorflow) (0.4.0)\n",
      "Requirement already satisfied: keras<2.12,>=2.11.0 in c:\\users\\tarun\\anaconda3\\lib\\site-packages (from tensorflow-intel==2.11.0->tensorflow) (2.11.0)\n",
      "Requirement already satisfied: opt-einsum>=2.3.2 in c:\\users\\tarun\\anaconda3\\lib\\site-packages (from tensorflow-intel==2.11.0->tensorflow) (3.3.0)\n",
      "Requirement already satisfied: tensorboard<2.12,>=2.11 in c:\\users\\tarun\\anaconda3\\lib\\site-packages (from tensorflow-intel==2.11.0->tensorflow) (2.11.0)\n",
      "Requirement already satisfied: protobuf<3.20,>=3.9.2 in c:\\users\\tarun\\anaconda3\\lib\\site-packages (from tensorflow-intel==2.11.0->tensorflow) (3.19.1)\n",
      "Requirement already satisfied: libclang>=13.0.0 in c:\\users\\tarun\\anaconda3\\lib\\site-packages (from tensorflow-intel==2.11.0->tensorflow) (14.0.6)\n",
      "Requirement already satisfied: setuptools in c:\\users\\tarun\\anaconda3\\lib\\site-packages (from tensorflow-intel==2.11.0->tensorflow) (61.2.0)\n",
      "Requirement already satisfied: google-pasta>=0.1.1 in c:\\users\\tarun\\anaconda3\\lib\\site-packages (from tensorflow-intel==2.11.0->tensorflow) (0.2.0)\n",
      "Requirement already satisfied: h5py>=2.9.0 in c:\\users\\tarun\\anaconda3\\lib\\site-packages (from tensorflow-intel==2.11.0->tensorflow) (3.6.0)\n",
      "Requirement already satisfied: six>=1.12.0 in c:\\users\\tarun\\anaconda3\\lib\\site-packages (from tensorflow-intel==2.11.0->tensorflow) (1.16.0)\n",
      "Requirement already satisfied: packaging in c:\\users\\tarun\\anaconda3\\lib\\site-packages (from tensorflow-intel==2.11.0->tensorflow) (21.3)\n",
      "Requirement already satisfied: wheel<1.0,>=0.23.0 in c:\\users\\tarun\\anaconda3\\lib\\site-packages (from astunparse>=1.6.0->tensorflow-intel==2.11.0->tensorflow) (0.37.1)\n",
      "Requirement already satisfied: tensorboard-data-server<0.7.0,>=0.6.0 in c:\\users\\tarun\\anaconda3\\lib\\site-packages (from tensorboard<2.12,>=2.11->tensorflow-intel==2.11.0->tensorflow) (0.6.1)\n",
      "Requirement already satisfied: markdown>=2.6.8 in c:\\users\\tarun\\anaconda3\\lib\\site-packages (from tensorboard<2.12,>=2.11->tensorflow-intel==2.11.0->tensorflow) (3.3.4)\n",
      "Requirement already satisfied: google-auth<3,>=1.6.3 in c:\\users\\tarun\\anaconda3\\lib\\site-packages (from tensorboard<2.12,>=2.11->tensorflow-intel==2.11.0->tensorflow) (1.33.0)\n",
      "Requirement already satisfied: tensorboard-plugin-wit>=1.6.0 in c:\\users\\tarun\\anaconda3\\lib\\site-packages (from tensorboard<2.12,>=2.11->tensorflow-intel==2.11.0->tensorflow) (1.8.1)\n",
      "Requirement already satisfied: requests<3,>=2.21.0 in c:\\users\\tarun\\anaconda3\\lib\\site-packages (from tensorboard<2.12,>=2.11->tensorflow-intel==2.11.0->tensorflow) (2.27.1)\n",
      "Requirement already satisfied: google-auth-oauthlib<0.5,>=0.4.1 in c:\\users\\tarun\\anaconda3\\lib\\site-packages (from tensorboard<2.12,>=2.11->tensorflow-intel==2.11.0->tensorflow) (0.4.6)\n",
      "Requirement already satisfied: werkzeug>=1.0.1 in c:\\users\\tarun\\anaconda3\\lib\\site-packages (from tensorboard<2.12,>=2.11->tensorflow-intel==2.11.0->tensorflow) (2.0.3)\n",
      "Requirement already satisfied: pyasn1-modules>=0.2.1 in c:\\users\\tarun\\anaconda3\\lib\\site-packages (from google-auth<3,>=1.6.3->tensorboard<2.12,>=2.11->tensorflow-intel==2.11.0->tensorflow) (0.2.8)\n",
      "Requirement already satisfied: cachetools<5.0,>=2.0.0 in c:\\users\\tarun\\anaconda3\\lib\\site-packages (from google-auth<3,>=1.6.3->tensorboard<2.12,>=2.11->tensorflow-intel==2.11.0->tensorflow) (4.2.2)\n",
      "Requirement already satisfied: rsa<5,>=3.1.4 in c:\\users\\tarun\\anaconda3\\lib\\site-packages (from google-auth<3,>=1.6.3->tensorboard<2.12,>=2.11->tensorflow-intel==2.11.0->tensorflow) (4.7.2)\n",
      "Requirement already satisfied: requests-oauthlib>=0.7.0 in c:\\users\\tarun\\anaconda3\\lib\\site-packages (from google-auth-oauthlib<0.5,>=0.4.1->tensorboard<2.12,>=2.11->tensorflow-intel==2.11.0->tensorflow) (1.3.1)\n",
      "Requirement already satisfied: pyasn1<0.5.0,>=0.4.6 in c:\\users\\tarun\\anaconda3\\lib\\site-packages (from pyasn1-modules>=0.2.1->google-auth<3,>=1.6.3->tensorboard<2.12,>=2.11->tensorflow-intel==2.11.0->tensorflow) (0.4.8)\n",
      "Requirement already satisfied: certifi>=2017.4.17 in c:\\users\\tarun\\anaconda3\\lib\\site-packages (from requests<3,>=2.21.0->tensorboard<2.12,>=2.11->tensorflow-intel==2.11.0->tensorflow) (2021.10.8)\n",
      "Requirement already satisfied: idna<4,>=2.5 in c:\\users\\tarun\\anaconda3\\lib\\site-packages (from requests<3,>=2.21.0->tensorboard<2.12,>=2.11->tensorflow-intel==2.11.0->tensorflow) (3.3)\n",
      "Requirement already satisfied: urllib3<1.27,>=1.21.1 in c:\\users\\tarun\\anaconda3\\lib\\site-packages (from requests<3,>=2.21.0->tensorboard<2.12,>=2.11->tensorflow-intel==2.11.0->tensorflow) (1.26.9)\n",
      "Requirement already satisfied: charset-normalizer~=2.0.0 in c:\\users\\tarun\\anaconda3\\lib\\site-packages (from requests<3,>=2.21.0->tensorboard<2.12,>=2.11->tensorflow-intel==2.11.0->tensorflow) (2.0.4)\n",
      "Requirement already satisfied: oauthlib>=3.0.0 in c:\\users\\tarun\\anaconda3\\lib\\site-packages (from requests-oauthlib>=0.7.0->google-auth-oauthlib<0.5,>=0.4.1->tensorboard<2.12,>=2.11->tensorflow-intel==2.11.0->tensorflow) (3.2.2)\n",
      "Requirement already satisfied: pyparsing!=3.0.5,>=2.0.2 in c:\\users\\tarun\\anaconda3\\lib\\site-packages (from packaging->tensorflow-intel==2.11.0->tensorflow) (3.0.4)\n"
     ]
    }
   ],
   "source": [
    "#7.building the odel by importing the crucial libraries and adding different layers to LSTM\n",
    "!pip install keras\n",
    "!pip install tensorflow\n",
    "from keras.models import Sequential\n",
    "from keras.layers import LSTM\n",
    "from keras.layers import Dense\n",
    "from keras.layers import Dropout\n",
    "\n",
    "regressor=Sequential()\n",
    "\n",
    "regressor.add(LSTM(units=50,return_sequences=True,input_shape=(x_train.shape[1],1)))\n",
    "regressor.add(Dropout(0.2))\n",
    "\n",
    "regressor.add(LSTM(units=50,return_sequences=True))\n",
    "regressor.add(Dropout(0.2))\n",
    "\n",
    "regressor.add(LSTM(units=50,return_sequences=True))\n",
    "regressor.add(Dropout(0.2))\n",
    "\n",
    "regressor.add(LSTM(units=50))\n",
    "regressor.add(Dropout(0.2))\n",
    "\n",
    "regressor.add(Dense(units=1))"
   ]
  },
  {
   "cell_type": "code",
   "execution_count": 19,
   "id": "05753946",
   "metadata": {},
   "outputs": [
    {
     "name": "stdout",
     "output_type": "stream",
     "text": [
      "Epoch 1/100\n",
      "38/38 [==============================] - 29s 143ms/step - loss: 2.1028e-04\n",
      "Epoch 2/100\n",
      "38/38 [==============================] - 5s 137ms/step - loss: 3.3160e-05\n",
      "Epoch 3/100\n",
      "38/38 [==============================] - 5s 136ms/step - loss: 2.5108e-05\n",
      "Epoch 4/100\n",
      "38/38 [==============================] - 5s 119ms/step - loss: 2.2429e-05\n",
      "Epoch 5/100\n",
      "38/38 [==============================] - 5s 129ms/step - loss: 2.1705e-05\n",
      "Epoch 6/100\n",
      "38/38 [==============================] - 5s 128ms/step - loss: 3.5179e-05\n",
      "Epoch 7/100\n",
      "38/38 [==============================] - 5s 138ms/step - loss: 2.2090e-05\n",
      "Epoch 8/100\n",
      "38/38 [==============================] - 5s 129ms/step - loss: 1.7379e-05\n",
      "Epoch 9/100\n",
      "38/38 [==============================] - 5s 133ms/step - loss: 2.1114e-05\n",
      "Epoch 10/100\n",
      "38/38 [==============================] - 5s 135ms/step - loss: 1.7353e-05\n",
      "Epoch 11/100\n",
      "38/38 [==============================] - 5s 144ms/step - loss: 1.4995e-05\n",
      "Epoch 12/100\n",
      "38/38 [==============================] - 5s 125ms/step - loss: 1.4835e-05\n",
      "Epoch 13/100\n",
      "38/38 [==============================] - 5s 134ms/step - loss: 1.5917e-05\n",
      "Epoch 14/100\n",
      "38/38 [==============================] - 5s 129ms/step - loss: 1.5001e-05\n",
      "Epoch 15/100\n",
      "38/38 [==============================] - 5s 132ms/step - loss: 1.6859e-05\n",
      "Epoch 16/100\n",
      "38/38 [==============================] - 5s 135ms/step - loss: 1.3796e-05\n",
      "Epoch 17/100\n",
      "38/38 [==============================] - 6s 146ms/step - loss: 1.5070e-05\n",
      "Epoch 18/100\n",
      "38/38 [==============================] - 6s 151ms/step - loss: 1.6730e-05\n",
      "Epoch 19/100\n",
      "38/38 [==============================] - 9s 236ms/step - loss: 1.3187e-05\n",
      "Epoch 20/100\n",
      "38/38 [==============================] - 6s 155ms/step - loss: 1.4375e-05\n",
      "Epoch 21/100\n",
      "38/38 [==============================] - 7s 184ms/step - loss: 1.5036e-05\n",
      "Epoch 22/100\n",
      "38/38 [==============================] - 5s 130ms/step - loss: 1.2862e-05\n",
      "Epoch 23/100\n",
      "38/38 [==============================] - 5s 143ms/step - loss: 1.4149e-05\n",
      "Epoch 24/100\n",
      "38/38 [==============================] - 5s 122ms/step - loss: 1.2101e-05\n",
      "Epoch 25/100\n",
      "38/38 [==============================] - 5s 131ms/step - loss: 9.8598e-06\n",
      "Epoch 26/100\n",
      "38/38 [==============================] - 5s 135ms/step - loss: 1.1647e-05\n",
      "Epoch 27/100\n",
      "38/38 [==============================] - 5s 128ms/step - loss: 1.0636e-05\n",
      "Epoch 28/100\n",
      "38/38 [==============================] - 5s 129ms/step - loss: 1.1172e-05\n",
      "Epoch 29/100\n",
      "38/38 [==============================] - 5s 136ms/step - loss: 1.1003e-05\n",
      "Epoch 30/100\n",
      "38/38 [==============================] - 5s 135ms/step - loss: 1.1023e-05\n",
      "Epoch 31/100\n",
      "38/38 [==============================] - 5s 131ms/step - loss: 1.1392e-05\n",
      "Epoch 32/100\n",
      "38/38 [==============================] - 5s 133ms/step - loss: 9.4482e-06\n",
      "Epoch 33/100\n",
      "38/38 [==============================] - 5s 135ms/step - loss: 1.0407e-05\n",
      "Epoch 34/100\n",
      "38/38 [==============================] - 5s 127ms/step - loss: 1.1217e-05\n",
      "Epoch 35/100\n",
      "38/38 [==============================] - 4s 113ms/step - loss: 1.1353e-05\n",
      "Epoch 36/100\n",
      "38/38 [==============================] - 4s 104ms/step - loss: 9.9471e-06\n",
      "Epoch 37/100\n",
      "38/38 [==============================] - 4s 112ms/step - loss: 1.0683e-05\n",
      "Epoch 38/100\n",
      "38/38 [==============================] - 4s 104ms/step - loss: 9.8553e-06\n",
      "Epoch 39/100\n",
      "38/38 [==============================] - 4s 103ms/step - loss: 9.9231e-06\n",
      "Epoch 40/100\n",
      "38/38 [==============================] - 4s 103ms/step - loss: 1.1282e-05\n",
      "Epoch 41/100\n",
      "38/38 [==============================] - 4s 103ms/step - loss: 9.3710e-06\n",
      "Epoch 42/100\n",
      "38/38 [==============================] - 4s 103ms/step - loss: 1.0363e-05\n",
      "Epoch 43/100\n",
      "38/38 [==============================] - 4s 103ms/step - loss: 1.0835e-05\n",
      "Epoch 44/100\n",
      "38/38 [==============================] - 4s 103ms/step - loss: 9.7208e-06\n",
      "Epoch 45/100\n",
      "38/38 [==============================] - 4s 108ms/step - loss: 9.0984e-06\n",
      "Epoch 46/100\n",
      "38/38 [==============================] - 4s 107ms/step - loss: 1.0703e-05\n",
      "Epoch 47/100\n",
      "38/38 [==============================] - 4s 107ms/step - loss: 9.2553e-06\n",
      "Epoch 48/100\n",
      "38/38 [==============================] - 4s 106ms/step - loss: 1.0497e-05\n",
      "Epoch 49/100\n",
      "38/38 [==============================] - 4s 106ms/step - loss: 1.0843e-05\n",
      "Epoch 50/100\n",
      "38/38 [==============================] - 4s 107ms/step - loss: 9.1513e-06\n",
      "Epoch 51/100\n",
      "38/38 [==============================] - 4s 106ms/step - loss: 9.8217e-06\n",
      "Epoch 52/100\n",
      "38/38 [==============================] - 4s 106ms/step - loss: 1.0749e-05\n",
      "Epoch 53/100\n",
      "38/38 [==============================] - 4s 105ms/step - loss: 9.5332e-06\n",
      "Epoch 54/100\n",
      "38/38 [==============================] - 4s 107ms/step - loss: 8.5991e-06\n",
      "Epoch 55/100\n",
      "38/38 [==============================] - 4s 106ms/step - loss: 8.3823e-06\n",
      "Epoch 56/100\n",
      "38/38 [==============================] - 4s 105ms/step - loss: 9.6163e-06\n",
      "Epoch 57/100\n",
      "38/38 [==============================] - 4s 114ms/step - loss: 8.1682e-06\n",
      "Epoch 58/100\n",
      "38/38 [==============================] - 4s 111ms/step - loss: 8.2633e-06\n",
      "Epoch 59/100\n",
      "38/38 [==============================] - 4s 114ms/step - loss: 8.9246e-06\n",
      "Epoch 60/100\n",
      "38/38 [==============================] - 4s 115ms/step - loss: 7.8708e-06\n",
      "Epoch 61/100\n",
      "38/38 [==============================] - 4s 116ms/step - loss: 8.4427e-06\n",
      "Epoch 62/100\n",
      "38/38 [==============================] - 4s 117ms/step - loss: 8.8325e-06\n",
      "Epoch 63/100\n",
      "38/38 [==============================] - 4s 115ms/step - loss: 9.2140e-06\n",
      "Epoch 64/100\n",
      "38/38 [==============================] - 4s 118ms/step - loss: 8.4145e-06\n",
      "Epoch 65/100\n",
      "38/38 [==============================] - 5s 118ms/step - loss: 8.1616e-06\n",
      "Epoch 66/100\n",
      "38/38 [==============================] - 4s 117ms/step - loss: 8.8238e-06\n",
      "Epoch 67/100\n",
      "38/38 [==============================] - 4s 116ms/step - loss: 8.9589e-06\n",
      "Epoch 68/100\n",
      "38/38 [==============================] - 4s 117ms/step - loss: 9.6316e-06\n",
      "Epoch 69/100\n",
      "38/38 [==============================] - 4s 117ms/step - loss: 8.4594e-06\n",
      "Epoch 70/100\n",
      "38/38 [==============================] - 5s 127ms/step - loss: 8.4155e-06\n",
      "Epoch 71/100\n",
      "38/38 [==============================] - 5s 119ms/step - loss: 8.1767e-06\n",
      "Epoch 72/100\n",
      "38/38 [==============================] - 5s 118ms/step - loss: 7.8366e-06\n",
      "Epoch 73/100\n",
      "38/38 [==============================] - 5s 119ms/step - loss: 7.6918e-06\n",
      "Epoch 74/100\n",
      "38/38 [==============================] - 4s 118ms/step - loss: 7.6698e-06\n",
      "Epoch 75/100\n",
      "38/38 [==============================] - 4s 118ms/step - loss: 7.7168e-06\n",
      "Epoch 76/100\n",
      "38/38 [==============================] - 5s 119ms/step - loss: 1.0239e-05\n",
      "Epoch 77/100\n",
      "38/38 [==============================] - 4s 117ms/step - loss: 8.4423e-06\n",
      "Epoch 78/100\n",
      "38/38 [==============================] - 5s 119ms/step - loss: 7.0139e-06\n",
      "Epoch 79/100\n",
      "38/38 [==============================] - 5s 118ms/step - loss: 8.3246e-06\n",
      "Epoch 80/100\n",
      "38/38 [==============================] - 5s 119ms/step - loss: 9.0181e-06\n",
      "Epoch 81/100\n",
      "38/38 [==============================] - 5s 119ms/step - loss: 7.8784e-06\n",
      "Epoch 82/100\n",
      "38/38 [==============================] - 5s 120ms/step - loss: 8.3366e-06\n",
      "Epoch 83/100\n",
      "38/38 [==============================] - 4s 117ms/step - loss: 8.8166e-06\n",
      "Epoch 84/100\n",
      "38/38 [==============================] - 4s 117ms/step - loss: 8.6860e-06\n",
      "Epoch 85/100\n",
      "38/38 [==============================] - 4s 117ms/step - loss: 7.7755e-06\n",
      "Epoch 86/100\n",
      "38/38 [==============================] - 4s 117ms/step - loss: 7.7447e-06\n",
      "Epoch 87/100\n",
      "38/38 [==============================] - 4s 117ms/step - loss: 7.2469e-06\n",
      "Epoch 88/100\n",
      "38/38 [==============================] - 4s 116ms/step - loss: 6.9527e-06\n",
      "Epoch 89/100\n",
      "38/38 [==============================] - 5s 121ms/step - loss: 8.0753e-06\n",
      "Epoch 90/100\n",
      "38/38 [==============================] - 5s 119ms/step - loss: 7.3888e-06\n",
      "Epoch 91/100\n",
      "38/38 [==============================] - 5s 126ms/step - loss: 8.9882e-06\n",
      "Epoch 92/100\n",
      "38/38 [==============================] - 5s 120ms/step - loss: 9.5500e-06\n",
      "Epoch 93/100\n",
      "38/38 [==============================] - 5s 119ms/step - loss: 8.4865e-06\n",
      "Epoch 94/100\n",
      "38/38 [==============================] - 5s 120ms/step - loss: 7.0639e-06\n",
      "Epoch 95/100\n",
      "38/38 [==============================] - 4s 117ms/step - loss: 7.5119e-06\n",
      "Epoch 96/100\n",
      "38/38 [==============================] - 4s 117ms/step - loss: 7.9184e-06\n",
      "Epoch 97/100\n",
      "38/38 [==============================] - 4s 116ms/step - loss: 7.1897e-06\n",
      "Epoch 98/100\n",
      "38/38 [==============================] - 4s 116ms/step - loss: 7.2129e-06\n",
      "Epoch 99/100\n",
      "38/38 [==============================] - 4s 115ms/step - loss: 6.8586e-06\n",
      "Epoch 100/100\n",
      "38/38 [==============================] - 4s 117ms/step - loss: 6.7806e-06\n"
     ]
    },
    {
     "data": {
      "text/plain": [
       "<keras.callbacks.History at 0x1d27fc3c100>"
      ]
     },
     "execution_count": 19,
     "metadata": {},
     "output_type": "execute_result"
    }
   ],
   "source": [
    "regressor.compile(optimizer='adam',loss='mean_squared_error')\n",
    "regressor.fit(x_train,y_train,epochs=100,batch_size=32)"
   ]
  },
  {
   "cell_type": "code",
   "execution_count": 21,
   "id": "236beec4",
   "metadata": {},
   "outputs": [],
   "source": [
    "dataset_test=pd.read_csv(\"EW-MAX.csv.xls\")\n",
    "actual_stock_price=dataset_test.iloc[:,1:2].values"
   ]
  },
  {
   "cell_type": "code",
   "execution_count": 22,
   "id": "82f52f55",
   "metadata": {},
   "outputs": [],
   "source": [
    "dataset_total=pd.concat((dataset_train['Open'],dataset_test['Open']),axis=0)\n",
    "inputs=dataset_total[len(dataset_total)-len(dataset_test)-60:].values\n",
    "\n",
    "inputs=inputs.reshape(-1,1)\n",
    "inputs=scaler.transform(inputs)\n",
    "\n",
    "x_test=[]\n",
    "for i in range(60,80):\n",
    "    x_test.append(inputs[i-60:i, 0])\n",
    "x_test=np.array(x_test)\n",
    "x_test=np.reshape(x_test,(x_test.shape[0],x_test.shape[1],1))"
   ]
  },
  {
   "cell_type": "code",
   "execution_count": 23,
   "id": "27dd4ea4",
   "metadata": {},
   "outputs": [
    {
     "name": "stdout",
     "output_type": "stream",
     "text": [
      "1/1 [==============================] - 4s 4s/step\n"
     ]
    }
   ],
   "source": [
    "predicted_stock_price=regressor.predict(x_test)\n",
    "predicted_stoc_price=scaler.inverse_transform(predicted_stock_price)\n"
   ]
  },
  {
   "cell_type": "code",
   "execution_count": 24,
   "id": "28fc3613",
   "metadata": {},
   "outputs": [
    {
     "data": {
      "text/plain": [
       "<matplotlib.legend.Legend at 0x1d20bf9fd00>"
      ]
     },
     "execution_count": 24,
     "metadata": {},
     "output_type": "execute_result"
    },
    {
     "data": {
      "image/png": "[encoded data removed]",
      "text/plain": [
       "<Figure size 432x288 with 1 Axes>"
      ]
     },
     "metadata": {
      "needs_background": "light"
     },
     "output_type": "display_data"
    }
   ],
   "source": [
    "plt.plot(actual_stock_price,color='red',label='Acutual google stock price')\n",
    "plt.plot(predicted_stock_price,color='blue',label='Predicted google stock price')\n",
    "plt.title('google stock price prediction')\n",
    "plt.xlabel('time')\n",
    "plt.ylabel('google stock price')\n",
    "plt.legend()"
   ]
  },
  {
   "cell_type": "code",
   "execution_count": null,
   "id": "226b2c88",
   "metadata": {},
   "outputs": [],
   "source": []
  },
  {
   "cell_type": "code",
   "execution_count": null,
   "id": "9c08ae6c",
   "metadata": {},
   "outputs": [],
   "source": []
  }
 ],
 "metadata": {
  "kernelspec": {
   "display_name": "Python 3 (ipykernel)",
   "language": "python",
   "name": "python3"
  },
  "language_info": {
   "codemirror_mode": {
    "name": "ipython",
    "version": 3
   },
   "file_extension": ".py",
   "mimetype": "text/x-python",
   "name": "python",
   "nbconvert_exporter": "python",
   "pygments_lexer": "ipython3",
   "version": "3.9.12"
  }
 },
 "nbformat": 4,
 "nbformat_minor": 5
}
